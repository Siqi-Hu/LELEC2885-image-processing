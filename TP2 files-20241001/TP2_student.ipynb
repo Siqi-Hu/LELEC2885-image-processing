{
  "cells": [
    {
      "cell_type": "markdown",
      "id": "0ae9e4af",
      "metadata": {},
      "source": [
        "<font size=5  color=#003366> [LELEC2885] - Image Processing <br><br> \n",
        "TP 2 : Introduction to Wavelets </font> <br><br><br>\n",
        "\n",
        "<font size=5  color=#003366>\n",
        "Prof. L. Jacques <br>\n",
        "Prof. C. De Vleeschouwer \n",
        "<br><br>\n",
        "Benoit Brummer (benoit.brummer@uclouvain.be) <br>\n",
        "Anne-Sophie Collin (anne-sophie.collin@uclouvain.be)<br> \n",
        "Olivier Leblanc (o.leblanc@uclouvain.be) <br>\n",
        "Gabriel Van Zandycke (gabriel.vanzandycke@uclouvain.be) <br>\n",
        "<div style=\"text-align: right\"> 2021-2022 </div>\n",
        "<br><br>\n",
        "</font>"
      ]
    },
    {
      "cell_type": "markdown",
      "id": "01df440a",
      "metadata": {},
      "source": [
        "<font size=6 color=#009999> BEFORE STARTING </font> <br><br>\n",
        "\n",
        "Python packages can be installed from within the notebooks as well. By running the following cell, you will install the Numpy, PyWavelets, Imageio, Matplotlib and Scipy libraries. \n",
        "\n",
        "The documentation can be easily found on the internet. Never hesitate to have a look at it!"
      ]
    },
    {
      "cell_type": "code",
      "execution_count": null,
      "id": "582811a6",
      "metadata": {},
      "outputs": [],
      "source": [
        "# Dependencies for this notebook (numpy, matplotlib, imagio are considered already installed)\n",
        "!pip3 install PyWavelets  ipywidgets"
      ]
    },
    {
      "cell_type": "code",
      "execution_count": null,
      "id": "7bd767d3",
      "metadata": {},
      "outputs": [],
      "source": [
        "# Required imports\n",
        "from matplotlib import pyplot as plt\n",
        "import numpy as np\n",
        "import imageio\n",
        "import pywt\n",
        "import ipywidgets # This happens to meet some issue with this package. If it is your case, don't import it and call the teaching assistant when needed.\n",
        "from TP2_utils import pad, plot_wavelet, WaveletCoeffs"
      ]
    },
    {
      "cell_type": "markdown",
      "id": "b11db1f8",
      "metadata": {},
      "source": [
        "<font size=6 color=#009999> Introduction </font> <br><br>\n",
        "In the last practical session, we implemented a first multi-resolution transform: the Laplacian Pyramid.\n",
        "So far, we thus covered *three* representations of an image in total, each with its own specificities.\n",
        "\n",
        "* The Fourier representation of an image describes it in terms of frequencies, as combinations of sinusoidal patterns occurring across the whole image. Low frequencies (resp. high frequencies) tend to be associated with the smooth and large-scale shapes (resp. high-varying, small-scale oscillations). In short, the Fourier representations differentiates very effectively the content at the different scales (or frequencies) very well, but doesn't localize (spatially) this content at all. \n",
        "* On the contrary, in the spatial (or 'direct') domain, the contents of the image are perfectly well localized, but the scale information is completely absent.\n",
        "* The Laplacian Pyramid\u00e2\u20ac\u2022as other multiscale transforms\u00e2\u20ac\u2022lies halfway between those extremes, offering a trade-off representation where each coefficient describes the content of the image at a certain localization *and* a certain scale. This makes multi-resolution analysis a powerful tool to analyze the content of an image.\n",
        "\n",
        "The Laplacian Pyramid, however, is a *redundant* transform, in the sense that the transformed image (in this case, the pyramid, i.e. as a reminder, the different 'details' images and the lowest-resolution image) contains more coefficients than the original image.\n",
        "\n",
        "**BONUS QUESTION (to do after the exercices):** does this mean that the Laplacian pyramid necessarily requires more memory to be stored than the initial image? *Hint: this question involves notions of image compression, that you will see in more details later in the course.*\n",
        "\n",
        "The (discrete) wavelet transform that we will use today is such a multi-resolution transform that is not redundant, meaning that there are as many coefficients in the wavelet domain as in the initial spatial representation (with the exception, in practice, of some extra parameters sometimes introduced at the borders)."
      ]
    },
    {
      "cell_type": "markdown",
      "id": "4f012c5e",
      "metadata": {},
      "source": [
        "<font size=6 color=#009999> Developping intuition around wavelets </font> <br>"
      ]
    },
    {
      "cell_type": "markdown",
      "id": "e4d045f7",
      "metadata": {},
      "source": [
        "We will make heavy use of the transforms from the ``PyWavelets`` (``pywt`` in short) library. Let us import it along with the other libraries we will need. ``IPywidgets`` will also be useful in order to have some interactive cells.\n",
        "\n",
        "The library website can be found here: [https://pywavelets.readthedocs.io/en/latest/](https://pywavelets.readthedocs.io/en/latest/).\n",
        "An overview of the supported wavelets is also available at [http://wavelets.pybytes.com/](http://wavelets.pybytes.com/).\n",
        "\n",
        "In this session, we will only use the Discrete Wavelet Transform, for which there exists a fast algorithm (the fast wavelet transform for 1-D signals of size $N$ is $\\mathcal O(N)$!), and that is non-redundant.\n",
        "According to the [API reference](https://pywavelets.readthedocs.io/en/latest/ref/index.html), the functions we are interested in are:\n",
        "* `pywt.dwt2` (resp. `pywt.idwt2`) for a *single-level* transform (resp. single-level inverse transform), and\n",
        "* `pywt.wavedec2` (resp. `pywt.waverec2`) to perform a *multi-level* decomposition (resp. multi-level reconstruction).\n",
        "\n",
        "**Remarks:**\n",
        "- Those functions work on 2D signals (images), as indicated by the `2` at the end of their names. The respective functions for 1D signals are obtained simply by removing the \"2\" suffix.\n",
        "- The single-level transform corresponds to transforming to just one resolution lower (i.e., one `level` or scale of the pyramid). In practice, when we say ''wavelet tranform of a signal'' we always refer to the multi-level transform. \n",
        "\n",
        "There is a wide variety of wavelets designed for specific purposes. Most of the time, a whole family of wavelets is designed at once, as is the case with Daubechies Wavelets (one of the most popular wavelet families, introduced by the the Belgian mathematician Ingrid Daubechies).\n",
        "\n",
        "The wavelets within a family generally differ with respect to their support and smoothness. Run the following code to visualize the scaling and (\"mother\") wavelet functions of some usual wavelet transforms.\n",
        "\n",
        "**Question:** Explain, in your own words, the difference between the scaling function and the wavelet function. *Hint: think back about the Laplacian pyramid... what is the targeted representation and what do we actually encode?*"
      ]
    },
    {
      "cell_type": "code",
      "execution_count": null,
      "id": "51a3ca25",
      "metadata": {},
      "outputs": [],
      "source": [
        "names = [\"db1\", \"db2\", \"db3\", \"db5\", \"db18\"]\n",
        "plt.figure(figsize=(12,4.5))\n",
        "for i, name in enumerate(names):\n",
        "    scale, wavelet, x_values = pywt.Wavelet(name).wavefun()\n",
        "    \n",
        "    plt.subplot(2,5,i+1, title=name)\n",
        "    if i == 0: plt.ylabel(\"Wavelet functions $\\psi$\")\n",
        "    plt.plot(x_values, wavelet)\n",
        "    \n",
        "    plt.subplot(2,5,5+(i+1))\n",
        "    if i == 0: plt.ylabel(\"Scaling functions $\\phi$\")\n",
        "    plt.plot(x_values, scale)\n",
        "    \n",
        "\n",
        "plt.tight_layout()\n",
        "plt.show()"
      ]
    },
    {
      "cell_type": "markdown",
      "id": "01a721fb",
      "metadata": {},
      "source": [
        "Remark: the `db1` wavelet is the same as the classical ``Haar`` wavelet.\n",
        "\n",
        "\n",
        "**Question:** At the course, we have seen that the wavelets, scaling functions, as well as downscaled version of them (of powers of 2) are *orthogonal*. Can you verify it numerically for *db4* ? Explain in your own words why the orthogonality makes sense, using geometric intuition. *Hint: recall that the wavelet transform is constructed as successive projections on spaces of lower resolution.*"
      ]
    },
    {
      "cell_type": "code",
      "execution_count": null,
      "id": "4c872e7a",
      "metadata": {},
      "outputs": [],
      "source": [
        "wavelet = pywt.Wavelet(\"db4\")\n",
        "# Get the wavelet at two different resolutions\n",
        "scaling0, wavelet0, x_values0 = wavelet.wavefun(level=8)\n",
        "wavelet1 = wavelet.wavefun(level=7)[1]\n",
        "\n",
        "# For the smaller one, generate it both preceding and preceded by zeros\n",
        "wavelet11 = pad(wavelet1*2, x_values0.shape[0], pos=\"left\")\n",
        "wavelet12 = pad(wavelet1*2, x_values0.shape[0], pos=\"right\")\n",
        "\n",
        "print(\"Here are the signals in question.\")\n",
        "plt.figure(figsize=(10,5))\n",
        "plt.plot(x_values0, scaling0)\n",
        "plt.plot(x_values0, wavelet0)\n",
        "plt.plot(x_values0, wavelet11)\n",
        "plt.plot(x_values0, wavelet12)\n",
        "plt.legend(['$\\phi_{0,0}$','$\\psi_{0,0}$','$\\psi_{1,0}$','$\\psi_{1,1}$'],fontsize=15)\n",
        "plt.show()\n",
        "\n",
        "print(\"Are they orthogonal ?\")\n",
        "\n",
        "def are_orthogonal(s1, s2):\n",
        "    \"\"\"This function should return whether s1 and s2 are orthogonal, in the sense of\n",
        "    https://en.wikipedia.org/wiki/Orthogonality#Orthogonal_functions\n",
        "    \"\"\"\n",
        "    must_be_zero = ...  # YOUR IMPLEMENTATION\n",
        "    return np.abs(must_be_zero) < 1e-8  # Some margin to allow for numerical error\n",
        "\n",
        "\n",
        "# Throw an assertion error if any of the following signals are not orthogonal\n",
        "assert are_orthogonal(scaling0, wavelet0),  \"scaling0 and wavelet0 should be orthogonal\"\n",
        "assert are_orthogonal(scaling0, wavelet11), \"scaling0 and wavelet11 should be orthogonal\"\n",
        "assert are_orthogonal(scaling0, wavelet12), \"scaling0 and wavelet12 should be orthogonal\"\n",
        "assert are_orthogonal(wavelet0, wavelet11), \"wavelet0 and wavelet11 should be orthogonal\"\n",
        "assert are_orthogonal(wavelet0, wavelet12), \"wavelet0 and wavelet12 should be orthogonal\"\n",
        "assert not are_orthogonal([1, 1], [1, 1]),  \"[1,1] and [1,1] should not be orthogonal\"\n",
        "print(\"The tests passed, so it seems so !\")"
      ]
    },
    {
      "cell_type": "markdown",
      "id": "8b373731",
      "metadata": {},
      "source": [
        "You may then want to verify it for more wavelets. <br>\n",
        "\n",
        "**Question:** Let us consider the scaling function and the wavelet functions at different scales. How do you think each will occupy the frequency spectrum ? *Hint: think about the uncertainty principle as well as the relation between scale and frequency.*"
      ]
    },
    {
      "cell_type": "markdown",
      "id": "a9661bf9",
      "metadata": {},
      "source": [
        "We will use the FFT to visualize it. We can consider our wavelet has a support of 7 time units at its greater scale (as a side note, we consider db4 and db*X* has a support of $2X-1$ time units). 1 hertz (Hz) is the frequency associated with one pulse / time unit. Because we have 1793 samples for 7 time units, we can measure frequencies up to $\\frac{1793}{2\\cdot 7} \\approx 128$ Hz. We will however truncate our frequency axis to the first $14$ Hz."
      ]
    },
    {
      "cell_type": "code",
      "execution_count": null,
      "id": "10eccb62",
      "metadata": {},
      "outputs": [],
      "source": [
        "duration = x_values0[-1]            # The duration of the signal, in time units\n",
        "signal_length = x_values0.shape[0]  # The length of the signal (number of samples)\n",
        "freq_cutoff = 14                    # Truncate frequencies at 14 Hz\n",
        "cutoff = int(freq_cutoff*duration)  # The cutoff to apply in terms of sample numbers\n",
        "freqs = np.arange(signal_length//2)[:cutoff] / duration\n",
        "        \n",
        "\n",
        "curves = {\n",
        "    \"\\phi_{0,0}\": wavelet.wavefun(level=8)[0]*1,\n",
        "    \"\\psi_{0,0}\": wavelet.wavefun(level=8)[1]*1,\n",
        "    \"\\psi_{1,0}\": wavelet.wavefun(level=7)[1]*2,\n",
        "    \"\\psi_{2,0}\": wavelet.wavefun(level=6)[1]*4,\n",
        "    \"\\psi_{3,0}\": wavelet.wavefun(level=5)[1]*8,\n",
        "}\n",
        "\n",
        "for name, curve in curves.items():\n",
        "    curve = pad(curve, signal_length)\n",
        "    plt.figure(figsize=(7,2))\n",
        "    plt.subplot(121, title=\"${}$ in the temporal domain\".format(name))\n",
        "    plt.xlabel(\"Time (time units)\")\n",
        "    plt.plot(x_values0, curve)\n",
        "    plt.subplot(122, title=\"${}$ in the Fourier domain (amplitude)\".format(name))\n",
        "    plt.plot(freqs, np.abs(np.fft.fft(curve)[:cutoff])/256)\n",
        "    plt.xlabel(\"Frequency (Hz)\")\n",
        "    plt.show()"
      ]
    },
    {
      "cell_type": "markdown",
      "id": "c9478b62",
      "metadata": {},
      "source": [
        "Do you observe the uncertainty principle in action ?\n",
        "\n",
        "This may help you to appreciate even better the [Wikipedia page about the Wavelet transform](https://en.wikipedia.org/wiki/Wavelet_transform#Principle). Don't hesitate to read more about it."
      ]
    },
    {
      "cell_type": "markdown",
      "id": "1d9f48bf",
      "metadata": {},
      "source": [
        "<font size=6 color=#009999> Exercises </font> <br>"
      ]
    },
    {
      "cell_type": "markdown",
      "id": "ff49264e",
      "metadata": {},
      "source": [
        "Now that we have some intuition about wavelets properties, we are going to play with the transforms of images.\n",
        "\n",
        "To compute the transform of an image, people usually use the `pywt.wavedec2` function. However, given the multi-resolution nature of wavelets, the function returns the transform in the following manner:\n",
        "\n",
        "> [cAn, (cHn, cVn, cDn), ... (cH1, cV1, cD1)] : list\n",
        "> \n",
        ">     Coefficients list.  For user-specified `axes`, `cH*`\n",
        ">     corresponds to ``axes[0]`` while `cV*` corresponds to ``axes[1]``.\n",
        ">     The first element returned is the approximation coefficients for the\n",
        ">     nth level of decomposition.  Remaining elements are tuples of detail\n",
        ">     coefficients in descending order of decomposition level.\n",
        ">     (i.e. `cH1` are the horizontal detail coefficients at the first level)\n",
        "\n",
        "This means that it returns a list whose first element is the approximation, and the next elements are tuples containing the details over different axes at different scales each. The first details in the list will be the most coarse ones.\n",
        "\n",
        "Because this kind of data structure is cumbersome to manipulate, we provide a `WaveletCoeffs` class contained in ``TP2_utils.py``. This class can be instantiated from the result of `pywt.wavedec2` and provides more convenient ways to access approximation and details of the signal in the wavelet coefficients domain."
      ]
    },
    {
      "cell_type": "code",
      "execution_count": null,
      "id": "c6260dad",
      "metadata": {},
      "outputs": [
        {
          "data": {
            "image/png": "[encoded data removed]",
            "text/plain": [
              "<Figure size 432x288 with 1 Axes>"
            ]
          },
          "metadata": {
            "needs_background": "light"
          },
          "output_type": "display_data"
        },
        {
          "data": {
            "image/png": "[encoded data removed]",
            "text/plain": [
              "<Figure size 432x288 with 1 Axes>"
            ]
          },
          "metadata": {
            "needs_background": "light"
          },
          "output_type": "display_data"
        },
        {
          "name": "stdout",
          "output_type": "stream",
          "text": [
            "(16, 16) : approximation in pywt_format is a 2D array\n",
            "(256,) : approximation in our format is a 1-D array\n"
          ]
        }
      ],
      "source": [
        "# Load an image\n",
        "img = imageio.imread(\"images/cameraman.png\") / 255.\n",
        "plt.imshow(img, cmap=\"gray\")\n",
        "plt.show()\n",
        "\n",
        "# Compute wavelet coefficients\n",
        "coeffs_pywt_format = pywt.wavedec2(img, \"haar\", level=5)\n",
        "\n",
        "# Turn them into an object that is convenient to manipulate\n",
        "base_coeffs = WaveletCoeffs(pywt.wavedec2(img, \"haar\", level=5))\n",
        "# Plot the wavelets coefficients\n",
        "plot_wavelet(base_coeffs)\n",
        "plt.title('Wavelet decomposition')\n",
        "plt.show()\n",
        "\n",
        "# Create a copy we can modify\n",
        "coeffs = base_coeffs.clone() # clone() is necessary to modify coeffs without modifying base_coeffs\n",
        "\n",
        "print(coeffs_pywt_format[0].shape, \": approximation in pywt_format is a 2D array\")\n",
        "print(coeffs.approx.shape, \": approximation in our format is a 1-D array\")"
      ]
    },
    {
      "cell_type": "markdown",
      "id": "e24442df",
      "metadata": {},
      "source": [
        "A 1-D array is convenient to work with as we can merge any number of completely different arrays in it and process them at the same time. For instance, we can process all the details of one level at once."
      ]
    },
    {
      "cell_type": "code",
      "execution_count": null,
      "id": "d1dc288e",
      "metadata": {},
      "outputs": [],
      "source": [
        "# Let us increase every coefficient of the coarsest details by 1\n",
        "coeffs.details(0)[:] += 1\n",
        "\n",
        "# PLEASE NOTE THE [:] nececssary to tell Python to replace the coefficients in-place\n",
        "# (otherwise he will simply complain)"
      ]
    },
    {
      "cell_type": "markdown",
      "id": "7f436db3",
      "metadata": {},
      "source": [
        "And even process details from different levels at once."
      ]
    },
    {
      "cell_type": "code",
      "execution_count": null,
      "id": "cd921a5f",
      "metadata": {},
      "outputs": [],
      "source": [
        "# Let us cancel the coefficient from the 3 finest levels (2, 3, 4)\n",
        "coeffs.details(2,4)[:] = 0"
      ]
    },
    {
      "cell_type": "code",
      "execution_count": null,
      "id": "9492cda7",
      "metadata": {},
      "outputs": [],
      "source": [
        "# Let us observe the difference in the wavelet coefficient domain\n",
        "plt.figure(figsize=(10,4))\n",
        "\n",
        "plt.subplot(121, title=\"base coefficients\")\n",
        "plot_wavelet(base_coeffs)\n",
        "\n",
        "plt.subplot(122, title=\"modified coefficients\")\n",
        "plot_wavelet(coeffs)\n",
        "\n",
        "plt.show()"
      ]
    },
    {
      "cell_type": "code",
      "execution_count": null,
      "id": "e2f991a5",
      "metadata": {},
      "outputs": [],
      "source": [
        "# Finally, we can reconstruct an image from coeffs.pywt_format to reorganize\n",
        "# the modified coefficients into the format expected by pywt.waverec2\n",
        "\n",
        "plt.figure(figsize=(10,4))\n",
        "plt.subplot(121, title=\"base coefficients\")\n",
        "plt.imshow(pywt.waverec2(base_coeffs.pywt_format, \"haar\"), cmap=\"gray\")\n",
        "plt.subplot(122, title=\"modified coefficients\")\n",
        "plt.imshow(pywt.waverec2(coeffs.pywt_format, \"haar\"), cmap=\"gray\")\n",
        "plt.show()"
      ]
    },
    {
      "cell_type": "markdown",
      "id": "b2585a01",
      "metadata": {},
      "source": [
        "**Question:** Can you explain the artifacts you observe from the operators we have applied in the wavelet domain ?"
      ]
    },
    {
      "cell_type": "markdown",
      "id": "a5480421",
      "metadata": {},
      "source": [
        "Here is a quick summary of the different features of our `WaveletCoeffs` class:"
      ]
    },
    {
      "cell_type": "code",
      "execution_count": null,
      "id": "3cf71b71",
      "metadata": {},
      "outputs": [],
      "source": [
        "# Let us select \n",
        "print(\"image shape\", img.shape)\n",
        "print(\"approximation:\", coeffs.approx.shape, \"coeffs\")\n",
        "print(\"all details:\", coeffs.details().shape, \"coeffs\")\n",
        "print(\"    across\", coeffs.detail_levels, \"levels of details\")\n",
        "\n",
        "coeffs.approx           # approximation (as 1-D vector)\n",
        "coeffs.details(0)       # first level of details (as 1-D vector)\n",
        "coeffs.details(1)       # second level of details (as 1-D vector)\n",
        "coeffs.details(2, ...)  # from level 2 to last (as 1-D vector)\n",
        "coeffs.coeffs           # all the coefficients (approximation + details, as 1-D vector)\n",
        "\n",
        "coeffs.pywt_format      # get the results in the same way as output of pywt.wavedec2\n",
        "None                    # Avoid printing"
      ]
    },
    {
      "cell_type": "markdown",
      "id": "b666cdd9",
      "metadata": {},
      "source": [
        "For even more convenience, we will use the `WaveletCoeffs.dec2` function with the same parameters. This way, some extra parameters can be remembered to perform the reconstruction that can be achieved through `my_coeffs.rec2()` rather than `pywt.waverec2(my_coeffs.pywt_format, \"haar\")` for instance."
      ]
    },
    {
      "cell_type": "markdown",
      "id": "4f299966",
      "metadata": {},
      "source": [
        "<font size=5 color=#009999> 3.1 Coefficient distributions in different representations </font> <br>\n",
        "\n",
        "Let us come back to the unmodified image.\n",
        "\n",
        "We are interested in the distribution of the values that the wavelet coefficients take. Can you plot an histogram of the amplitude of the coefficients in both the spatial and wavelet coefficient domains ? (for *db3*, down to the 2nd level for instance)\n",
        "\n",
        "We will use `plt.hist` that expects a one-dimensional vector as parameter, which you have to generate."
      ]
    },
    {
      "cell_type": "code",
      "execution_count": null,
      "id": "6a9f1e33",
      "metadata": {},
      "outputs": [],
      "source": [
        "coeffs = WaveletCoeffs.dec2(img, \"db3\", level=2)\n",
        "\n",
        "spatial_coefficients = ...  # TODO: get pixel intensities of img as a single 1-D vector\n",
        "wavelet_coefficients = ...  # TODO: get wavelet coefficients as a single 1-D vector\n",
        "\n",
        "coeff_max = max(spatial_coefficients.max(),wavelet_coefficients.max())\n",
        "bins = np.linspace(0,coeff_max,120) # To better compare both visually, use the same bins\n",
        "\n",
        "plt.figure(figsize=(8,3))\n",
        "plt.subplot(121)\n",
        "plt.hist(np.abs(spatial_coefficients), bins=bins)  # amplitude makes it easier to compare both\n",
        "plt.title('Distribution')\n",
        "plt.ylabel('Spatial\\nNumber of coefficients')\n",
        "plt.subplot(122)\n",
        "plt.hist(np.abs(spatial_coefficients), bins=bins, cumulative=True, density=True)\n",
        "plt.title('Cumulative distribution')\n",
        "plt.show()\n",
        "\n",
        "plt.figure(figsize=(8,3))\n",
        "plt.subplot(121)\n",
        "plt.hist(np.abs(wavelet_coefficients), bins=bins)\n",
        "plt.ylabel('Wavelet\\nNumber of coefficients')\n",
        "plt.xlabel('Coefficient absolute value')\n",
        "plt.subplot(122)\n",
        "plt.hist(np.abs(wavelet_coefficients), bins=bins, cumulative=True, density=True)\n",
        "plt.xlabel('Coefficient absolute value')\n",
        "plt.show()"
      ]
    },
    {
      "cell_type": "markdown",
      "id": "50054fbe",
      "metadata": {},
      "source": [
        "As you should observe above, many of the wavelet coefficients are very close to zero. This is true for many natural signals when we use a well-chosen basis: when expressed in the wavelet basis, those signals can be well expressed (or approximated) by only a few non-zero coefficents. We say that the given signal is *sparse* (or *compressible*) in that particular basis. We will now view some applications of the sparse nature of most signals."
      ]
    },
    {
      "cell_type": "markdown",
      "id": "2f4d45e6",
      "metadata": {},
      "source": [
        "<font size=5 color=#009999> 3.2 Compression </font> <br>\n",
        "\n",
        "It is possible to use the sparsity of signals to construct a basic image compression scheme, that is, transform the representation of the image (*encoding*) such that the encoded representation uses less memory. We should be able to reconstruct the original image from this compressed encoding without errors (lossless compression) or without a too large error (lossy compression).\n",
        "\n",
        "To compress an image $I$, our (lossy) compression scheme will work as follows:\n",
        "* Compression phase $I \\rightarrow \\alpha$\n",
        "    1. Perform the wavelet transform of $I$\n",
        "    1. Keep only the proportion $p$ of wavelet coefficient with the largest amplitude, and put the others to zero. Those thresholded coefficients $\\alpha$ are our encoded image. [1]\n",
        "* Reconstruction $\\alpha \\rightarrow \\hat{I}$\n",
        "    1. Perform the inverse wavelet transform of $\\alpha$.\n",
        "    \n",
        "As you already know how to compute the wavelet coefficients and reconstruct the image back, we thus ask you to write step 2 of the compression.\n",
        "\n",
        "\n",
        "[1] *Remark: For now, we suppose that there is no memory cost required to encode zero coefficients. We will go slightly further in the compression aspect in the next practical session. Finally, a more exhaustive theory of image compression will be covered later in the course.*"
      ]
    },
    {
      "cell_type": "code",
      "execution_count": null,
      "id": "01340b56",
      "metadata": {},
      "outputs": [],
      "source": [
        "def threshold(array, percentile=70):\n",
        "    # Threshold to zero the input array, such that we zero a proportion of its elements given by percentile (in %)\n",
        "    # (you may want to use np.sort on its result and then threshold every array on some value you obtain from it)\n",
        "    # Please mind the fact that very negative values are as important as very positive ones.\n",
        "    \n",
        "    # IMPLEMENT YOUR CODE HERE\n",
        "    \n",
        "    return array"
      ]
    },
    {
      "cell_type": "markdown",
      "id": "e3780001",
      "metadata": {},
      "source": [
        "Let's perform a sanity check. Complete the following code, using answer to the previous questions."
      ]
    },
    {
      "cell_type": "code",
      "execution_count": null,
      "id": "79482d80",
      "metadata": {},
      "outputs": [],
      "source": [
        "p_test = 90\n",
        "coeffs = WaveletCoeffs.dec2(img, \"db3\", level=2)\n",
        "thresholded_coeffs = threshold(coeffs.coeffs, percentile=p_test)\n",
        "\n",
        "# TO COMPLETE\n",
        "proportion_of_zeros_after_threshold = ... # Get the proportion of zero in thresholded_coeffs\n",
        "\n",
        "print('Threshold function with percentile = {}, gives in practice a fraction {:0.5f} of zero coefficients.'\n",
        "      .format(p_test,proportion_of_zeros_after_threshold))"
      ]
    },
    {
      "cell_type": "markdown",
      "id": "4bcd45cb",
      "metadata": {},
      "source": [
        "To evaluate the quality degradation induced by our compression quantitatively, we need an objective *metric*. We may measure the ``Mean Square Error (MSE)`` between the original image $I$ (in all generality here, of height/width $h$/$w$) and the reconstruction $\\hat{I}$. A lower MSE would mean a better reconstruction.\n",
        "\n",
        "$$\n",
        "\\mathit{MSE} = \\frac{1}{hw}\\sum_{y=0}^{h-1}\\sum_{x=0}^{w-1}[I(y,x)-\\hat{I}(y,x)]^2\n",
        "$$\n",
        "\n",
        "The MSE is not independent to the actual amplitude of the signal (i.e., it measures an *absoute error*), e.g., if we scale the image and its reconstruction by any arbitrary number, we can get any value for the MSE with the same encoding strategy. The ``Peak Signal to Noise Ratio (PSNR)`` is a way to measure the error *relative to the intensity of the initial image*; it can be computed from the MSE and $\\mathit{MAX}_I$, the highest possible value for our signal:\n",
        "\n",
        "$$\n",
        "\\mathit{PSNR} = 10\\cdot \\log_{10}\\left(\\frac{\\mathit{MAX}_I^2}{\\mathit{MSE}}\\right)\n",
        "$$\n",
        "\n",
        "Note that the PSNR is expressed in decibels (dB). Do not confuse it with the SNR, that replaces the squared maximum intensity in the initial image by the energy of this image (average squared intensity)."
      ]
    },
    {
      "cell_type": "code",
      "execution_count": null,
      "id": "7ea6806a",
      "metadata": {},
      "outputs": [],
      "source": [
        "def PSNR(truth, approximation):\n",
        "    # IMPLEMENT YOUR CODE HERE"
      ]
    },
    {
      "cell_type": "markdown",
      "id": "ad86d65d",
      "metadata": {},
      "source": [
        "Run the following cell to try out the compression scheme with a wide range of parameters."
      ]
    },
    {
      "cell_type": "code",
      "execution_count": null,
      "id": "83d6a814",
      "metadata": {},
      "outputs": [],
      "source": [
        "@ipywidgets.interact(\n",
        "    wavelet=[\"haar\", \"db3\", \"db7\", \"db18\"],\n",
        "    kept_portion=ipywidgets.FloatLogSlider(min=-4,max=2,step=1),\n",
        "    keep_approx=[False, True]\n",
        ")\n",
        "def visualize(wavelet, kept_portion, keep_approx):\n",
        "    base_coeffs = WaveletCoeffs.dec2(img, wavelet)\n",
        "    coeffs = base_coeffs.clone()\n",
        "    if keep_approx:\n",
        "        coeffs.coeffs[:] = threshold(coeffs.coeffs, percentile=100-kept_portion)\n",
        "    else:\n",
        "        coeffs.details()[:] = threshold(coeffs.details(), percentile=100-kept_portion)\n",
        "    reconstruction = coeffs.rec2()\n",
        "    \n",
        "    plt.figure(figsize=(15,5))\n",
        "    plt.subplot(131, title=\"Wavelet coefficients\")\n",
        "    plot_wavelet(base_coeffs)\n",
        "    plt.subplot(132, title=\"Thresholded coefficients\")\n",
        "    plot_wavelet(coeffs)\n",
        "    plt.subplot(133, title=\"Reconstruction\")\n",
        "    plt.imshow(reconstruction, cmap=\"gray\")\n",
        "    plt.show()\n",
        "    \n",
        "    print(\"PSNR (dB) : \\t\\t\\t\\t\", PSNR(img, reconstruction))\n",
        "    print(\"Parameters in the approximation : \\t\", coeffs.approx.size)\n",
        "    print(\"Parameters in the details : \\t\\t\", coeffs.details().size)\n",
        "    print(\"Kept parameters : \\t\\t\\t\", (coeffs.coeffs!=0).sum())"
      ]
    },
    {
      "cell_type": "markdown",
      "id": "a52f087b",
      "metadata": {},
      "source": [
        "<font size=5 color=#009999> 3.3 Denoising using thresholding </font> <br>\n",
        "\n",
        "One can also use a wavelet basis to perform denoising.\n",
        "\n",
        "We will consider noisy images that are obtained by injecting ``Additive white gaussian noise (AWGN)`` with distribution $W_{y,x} \\sim\\mathcal{N}(0,\\sigma^2)$ all over a captured image. The key assumption here is that the image is sparse in the wavelet domain, but the noise is not (this is a simple consequence of the noise being *white*).\n",
        "\n",
        "Denoising will thus consist in recovering an estimation of the real image $I_0$ from the noisy image $I = I_0 + W\\in \\mathbb R^{w \\times h}$ given some prior on its original structure (sparse in a given wavelet basis) and the noise that has affected it (the noise is not sparse in that basis)."
      ]
    },
    {
      "cell_type": "code",
      "execution_count": null,
      "id": "72682611",
      "metadata": {},
      "outputs": [],
      "source": [
        "I0 = img                                            # the original image\n",
        "sigma = 0.08\n",
        "I = I0 + np.random.normal(0, sigma, size=I0.shape)  # the amplitude of the noise\n",
        "\n",
        "plt.figure(figsize=(8,4))\n",
        "plt.subplot(121, title=\"Natural image\")\n",
        "plt.imshow(I0, cmap=\"gray\")\n",
        "plt.subplot(122, title=\"Noisy image\")\n",
        "plt.imshow(I, cmap=\"gray\")\n",
        "plt.show()\n",
        "print(\"PSNR\", PSNR(I0, I))"
      ]
    },
    {
      "cell_type": "markdown",
      "id": "4a9c8bef",
      "metadata": {},
      "source": [
        "We now ask you to write a function that will kill off (put to zero) the smallest wavelet coefficients, i.e. the ones that are likely mainly due to noise. The mathematical operation that we will perform on the wavelet coefficents is called ``Hard Thresholding`` and is defined as follows:\n",
        "\n",
        "$$\n",
        "s_T^0(\\alpha) = \\left\\{  \\begin{array}{l}\n",
        "    \\alpha \\quad \\text{if} \\quad \\left|\\alpha\\right|>T, \\\\\n",
        "    0 \\quad\\text{otherwise}.\n",
        "\\end{array} \\right. \n",
        "$$\n",
        "\n",
        "Note that this is different from the thresholding we did above, where we kept a *fixed* number of coefficients, here we keep all the coefficients that lie above some threshold $T$."
      ]
    },
    {
      "cell_type": "code",
      "execution_count": null,
      "id": "b46ea02e",
      "metadata": {},
      "outputs": [],
      "source": [
        "def thresh_hard(u,T):\n",
        "    \"\"\"Hard threshold u with threshold T\n",
        "    \"\"\"\n",
        "    # YOUR IMPLEMENTATION\n",
        "    \n",
        "\n",
        "base_coeffs = WaveletCoeffs.dec2(I, \"haar\")\n",
        "coeffs = base_coeffs.clone()\n",
        "\n",
        "T = sigma*3\n",
        "coeffs.coeffs[:] = thresh_hard(coeffs.coeffs, T)\n",
        "rec = coeffs.rec2()\n",
        "\n",
        "plt.figure(figsize=(15,5))\n",
        "plt.subplot(131, title=\"Wavelet coefficients\")\n",
        "plot_wavelet(base_coeffs)\n",
        "plt.subplot(132, title=\"Thresholded coefficients\")\n",
        "plot_wavelet(coeffs)\n",
        "plt.subplot(133, title=\"Reconstruction\")\n",
        "plt.imshow(rec, cmap=\"gray\")\n",
        "plt.show()\n",
        "print(\"PSNR\", PSNR(I0, rec))"
      ]
    },
    {
      "cell_type": "markdown",
      "id": "a373265d",
      "metadata": {},
      "source": [
        "When relying on those type of deblurring methods, a crucial parameter to fix is the threshold $T$. Try out some different values in the cell above, then run the following cell which computes the PSNR of the denoised image as a function of the threshold $T$. \n",
        "\n",
        "**Question:** What do you observe? How can we select $T$ in practice? To go even further, we recommend to change the test image and/or the noise level: what is the influence on the choice of $T$?"
      ]
    },
    {
      "cell_type": "code",
      "execution_count": null,
      "id": "9ec663e4",
      "metadata": {},
      "outputs": [],
      "source": [
        "base_coeffs = WaveletCoeffs.dec2(I, \"haar\")\n",
        "nb_T_toTest = 101\n",
        "T_toTest = np.linspace(0,3,nb_T_toTest)\n",
        "PSNRs_hardth = np.zeros(nb_T_toTest)\n",
        "\n",
        "\n",
        "for (iT,T) in enumerate(T_toTest):\n",
        "    coeffs = base_coeffs.clone()\n",
        "    coeffs.coeffs[:] = thresh_hard(coeffs.coeffs,T)\n",
        "    rec = coeffs.rec2()\n",
        "    PSNRs_hardth[iT] = PSNR(I0, rec)\n",
        "\n",
        "plt.figure(figsize=(8,3))\n",
        "plt.plot(T_toTest,PSNRs_hardth)\n",
        "plt.plot(T_toTest,PSNRs_hardth[0]*np.ones(nb_T_toTest),'k:')\n",
        "plt.legend(['PSNR denoised image','PSNR noisy image'])\n",
        "plt.xlabel('Threshold T')\n",
        "plt.ylabel('PSNR after denoising')\n",
        "plt.show()"
      ]
    },
    {
      "cell_type": "markdown",
      "id": "034bf447",
      "metadata": {},
      "source": [
        "<font size=6 color=#009999> 4. Reducing artifacts </font> <br>\n",
        "\n",
        "In the last exercise, using hard thresholding for denoising, you should be able to observe blocky artifacts due to the nature of the haar wavelets. We propose here different methods to try to mitigate the problem.\n",
        "\n",
        "We encourage you to try to implement some of these and interpret your results to confirm/infirm our hypothesis. You may justify your opinion on both metrics and visual results.\n",
        "\n",
        "<font size=5 color=#009999> 4.1. Soft thresholding </font> <br>"
      ]
    },
    {
      "cell_type": "markdown",
      "id": "14685e93",
      "metadata": {},
      "source": [
        "The hard thresholding operator introduces discontinuity, which may contribute to those artifacts. The soft-thresholding operator avoids the discontinuity with the following formula :\n",
        "\n",
        "$$\n",
        "s_T^1(\\alpha) = \\left\\{  \\begin{array}{l}\n",
        "    \\alpha-T \\quad \\text{if} \\quad \\alpha>T, \\\\\n",
        "    \\alpha+T \\quad \\text{if} \\quad \\alpha<-T, \\\\\n",
        "    0 \\quad\\text{otherwise}.\n",
        "\\end{array} \\right.\n",
        "$$\n",
        "\n",
        "**Question:** Implement the deblurring scheme defined above, but with the soft-thresholding operator instead of the hard-thresholding. Compare the methods. Try different values of $T$ for both methods.\n",
        "\n",
        "Remark: the $^1$ refers to the fact that soft thresholding the wavelet coefficients can be seen as a form of penalizing the $\\ell_1$ norm of $\\alpha$ (that encourages the sparsity in the wavelet domain). More precisely, when we denoise $I$ as follows ($\\Psi$ and $\\Psi^*$ denote the forward and inverse wavelet transform)\n",
        "\n",
        "$$\n",
        "    \\hat{I} = \\Psi^* s_T^1(\\Psi I),\n",
        "$$\n",
        "\n",
        "we are actually solving the optimization problem\n",
        "$$\n",
        "    \\hat{I} = \\min_{I'} \\frac{1}{2}\\|I - I'\\|_2^2 + T \\|\\Psi I'\\|_1.\n",
        "$$\n",
        "This helps to see the mathematical influence of the parameter $T$ in this case (in fact, it can be used to derive the optimal value of $T$ as a function of $\\sigma$, which we won't do here)."
      ]
    },
    {
      "cell_type": "markdown",
      "metadata": {},
      "source": [
        "<img src='data:image/jpeg;base64,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\n",
        "' />"
      ]
    },
    {
      "cell_type": "code",
      "execution_count": null,
      "id": "a28e6137",
      "metadata": {},
      "outputs": [],
      "source": [
        "T = sigma*3\n",
        "def thresh_soft(u,T):\n",
        "    \"\"\"Soft threshold u with threshold T\n",
        "    \"\"\"\n",
        "    # YOUR IMPLEMENTATION\n",
        "\n",
        "base_coeffs = WaveletCoeffs.dec2(I, \"haar\")\n",
        "coeffs = base_coeffs.clone()\n",
        "coeffs.coeffs[:] = thresh_soft(coeffs.coeffs, T)\n",
        "rec = coeffs.rec2()\n",
        "\n",
        "plt.figure(figsize=(15,5))\n",
        "plt.subplot(131, title=\"Wavelet coefficients\")\n",
        "plot_wavelet(base_coeffs)\n",
        "plt.subplot(132, title=\"Thresholded coefficients\")\n",
        "plot_wavelet(coeffs)\n",
        "plt.subplot(133, title=\"Reconstruction\")\n",
        "plt.imshow(rec, cmap=\"gray\")\n",
        "plt.show()\n",
        "print(\"PSNR\", PSNR(I0, rec))"
      ]
    },
    {
      "cell_type": "markdown",
      "id": "82dd9d5e",
      "metadata": {},
      "source": [
        "Now, let's compare both hard and soft thresholding denoising for different threshold values $T$. \n",
        "\n",
        "**Question:** Comment on the graph below. What are the advantages/disadvantages of using one thresholding function over the other? What happens for other images and noise levels?"
      ]
    },
    {
      "cell_type": "code",
      "execution_count": null,
      "id": "a49b8458",
      "metadata": {},
      "outputs": [],
      "source": [
        "base_coeffs = WaveletCoeffs.dec2(I, \"haar\")\n",
        "nb_T_toTest = 101\n",
        "T_toTest = np.linspace(0,3,nb_T_toTest)\n",
        "PSNRs_hardth = np.zeros(nb_T_toTest)\n",
        "PSNRs_softth = np.zeros(nb_T_toTest)\n",
        "\n",
        "\n",
        "for (iT,T) in enumerate(T_toTest):\n",
        "    coeffs = base_coeffs.clone()\n",
        "    coeffs.coeffs[:] = thresh_hard(coeffs.coeffs,T)\n",
        "    rec_hard = coeffs.rec2()\n",
        "    PSNRs_hardth[iT] = PSNR(I0, rec_hard)\n",
        "    \n",
        "    coeffs = base_coeffs.clone()\n",
        "    coeffs.coeffs[:] = thresh_soft(coeffs.coeffs,T)\n",
        "    rec_soft = coeffs.rec2()\n",
        "    PSNRs_softth[iT] = PSNR(I0, rec_soft)\n",
        "\n",
        "plt.figure(figsize=(8,3))\n",
        "plt.plot(T_toTest,PSNRs_hardth)\n",
        "plt.plot(T_toTest,PSNRs_softth)\n",
        "plt.plot(T_toTest,PSNRs_hardth[0]*np.ones(nb_T_toTest),'k:')\n",
        "plt.legend(['PSNR denoised image hard thresholding','PSNR denoised image soft thresholding','PSNR noisy image'])\n",
        "plt.xlabel('Threshold T')\n",
        "plt.ylabel('PSNR after denoising')\n",
        "plt.show()"
      ]
    },
    {
      "cell_type": "code",
      "execution_count": null,
      "id": "19c0c94d",
      "metadata": {},
      "outputs": [],
      "source": []
    },
    {
      "cell_type": "markdown",
      "id": "dcf13ead",
      "metadata": {},
      "source": [
        "<font size=5 color=#009999> 4.2 Other wavelet basis </font> <br>\n",
        "\n",
        "The haar wavelet is blocky by nature. Changing for a smoother wavelet basis could mitigate that problem. (e.g. $\\mathit{db}x \\text{ with } x \\in [2,20]$)."
      ]
    },
    {
      "cell_type": "code",
      "execution_count": null,
      "id": "c47d6f73",
      "metadata": {},
      "outputs": [],
      "source": [
        "T = sigma*3\n",
        "\n",
        "wavelet = ...\n",
        "base_coeffs = WaveletCoeffs.dec2(I, wavelet)\n",
        "coeffs = base_coeffs.clone()\n",
        "coeffs.coeffs[:] = thresh_hard(coeffs.coeffs,T)\n",
        "rec = coeffs.rec2()\n",
        "\n",
        "plt.figure(figsize=(15,5))\n",
        "plt.subplot(131, title=\"Wavelet coefficients\")\n",
        "plot_wavelet(base_coeffs)\n",
        "plt.subplot(132, title=\"Thresholded coefficients\")\n",
        "plot_wavelet(coeffs)\n",
        "plt.subplot(133, title=\"Reconstruction\")\n",
        "plt.imshow(rec, cmap=\"gray\")\n",
        "plt.show()\n",
        "print(\"PSNR\", PSNR(I0, rec))"
      ]
    },
    {
      "cell_type": "markdown",
      "id": "5973e625",
      "metadata": {},
      "source": [
        "This is beyond the scope of this practical session, but note that wavelets are, by their construction, focusing on details that are aligned with the horizontal/vertical axes in the image. Other \\*-lets (curvelets, shearlets) try to compensate this limitation."
      ]
    },
    {
      "cell_type": "markdown",
      "id": "5e9a3045",
      "metadata": {},
      "source": [
        "<font size=5 color=#009999> 4.3 Thresholding coefficients from *detailed* scales only </font> <br>\n",
        "\n",
        "The blocky artifacts are mostly disturbing when they occur at large scale. Furthermore, we could hypothetize that on a large region, the noise is cancelled by averaging.\n",
        "\n",
        "This leads us to propose that applying the thresholding on detailed scales only may mitigate the problem."
      ]
    },
    {
      "cell_type": "code",
      "execution_count": null,
      "id": "ee223299",
      "metadata": {},
      "outputs": [],
      "source": [
        "T = sigma*3\n",
        "\n",
        "base_coeffs = WaveletCoeffs.dec2(I, \"haar\")\n",
        "coeffs = base_coeffs.clone()\n",
        "# threshold details on 3 higher resolutions for instance?\n",
        "# YOUR IMPLEMENTATION HERE\n",
        "\n",
        "rec = coeffs.rec2()\n",
        "\n",
        "plt.figure(figsize=(15,5))\n",
        "plt.subplot(131, title=\"Wavelet coefficients\")\n",
        "plot_wavelet(base_coeffs)\n",
        "plt.subplot(132, title=\"Thresholded coefficients\")\n",
        "plot_wavelet(coeffs)\n",
        "plt.subplot(133, title=\"Reconstruction\")\n",
        "plt.imshow(rec, cmap=\"gray\")\n",
        "plt.show()\n",
        "print(\"PSNR\", PSNR(I0, rec))"
      ]
    },
    {
      "cell_type": "markdown",
      "id": "53cfb6b3",
      "metadata": {},
      "source": [
        "<font size=5 color=#009999> 4.4 Cycle spinning </font> <br>\n",
        "\n",
        "The wavelet transform is not translation invariant. Can you picture yourself why and how it impacts the reconstruction ?\n",
        "\n",
        "Cycle spinning compensates the lack of translation-invariance of the wavelet basis by averaging the reconstructions obtained with translations of the wavelet basis. In practice, it can simply be achieved by performing the translations on the image before decoding and inverting them after reconstruction.\n",
        "\n",
        "Let us consider $N^2$ translations, `(0,0)`, `(0,1)`, `(1,0)`, `(1,1)`, ..., `(N-1,N-2)`, `(N-1,N-1)`. For each shifted image, we will perform the wavelet decomposition, the thresholding, the reconstruction, and shift it again to realign it with the source image. This process leaves us with $N^2$ reconstructions $R_{ij}$.\n",
        "\n",
        "One can then computes the final reconstruction $$R = \\frac{1}{N^2}\\sum_{(i,j)\\in [0,N)^2}R_{ij}$$."
      ]
    },
    {
      "cell_type": "code",
      "execution_count": null,
      "id": "d80902d4",
      "metadata": {},
      "outputs": [],
      "source": [
        "T = sigma*3\n",
        "N = 10\n",
        "\n",
        "reconstructions = []\n",
        "for i in range(N):\n",
        "    for j in range(N):\n",
        "        ### TO COMPLETE : compute the translation of I of an amout (i,j)\n",
        "        I_ij = ...\n",
        "        coeffs = WaveletCoeffs.dec2(I_ij, \"haar\")\n",
        "        coeffs.coeffs[:] = thresh_hard(coeffs.coeffs,T)\n",
        "        ### TO COMPLETE : recover an image from the wavelet coefficients then compensate for the translation\n",
        "        rec_ij = ...\n",
        "        \n",
        "        reconstructions.append(rec_ij)\n",
        "\n",
        "### TO COMPLETE : compute the mean of all of these reconstructions\n",
        "rec = ...\n",
        "\n",
        "plt.figure(figsize=(15,5))\n",
        "plt.subplot(131, title=\"Wavelet coefficients\")\n",
        "plot_wavelet(coeffs)\n",
        "plt.subplot(133, title=\"Reconstruction\")\n",
        "plt.imshow(rec, cmap=\"gray\")\n",
        "plt.show()\n",
        "print(\"PSNR\", PSNR(I0, rec))"
      ]
    },
    {
      "cell_type": "markdown",
      "id": "78dba359",
      "metadata": {},
      "source": [
        "<font size=5 color=#009999> More resources </font> <br>\n",
        "\n",
        "Don't hesitate to check out the [Numerical Tours](http://www.numerical-tours.com/python/) where many applications of wavelets are covered. The Matlab version of the tour is even more extensive, good to know if you need examples on some specific problem."
      ]
    }
  ],
  "metadata": {
    "jupytext": {
      "formats": "ipynb,md",
      "text_representation": {
        "extension": ".md",
        "format_name": "markdown",
        "format_version": "1.3",
        "jupytext_version": "1.11.5"
      }
    },
    "kernelspec": {
      "display_name": "Python 3",
      "language": "python",
      "name": "python3"
    },
    "language_info": {
      "codemirror_mode": {
        "name": "ipython",
        "version": 3
      },
      "file_extension": ".py",
      "mimetype": "text/x-python",
      "name": "python",
      "nbconvert_exporter": "python",
      "pygments_lexer": "ipython3",
      "version": "3.8.8"
    }
  },
  "nbformat": 4,
  "nbformat_minor": 5
}